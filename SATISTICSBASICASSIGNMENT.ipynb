{
  "nbformat": 4,
  "nbformat_minor": 0,
  "metadata": {
    "colab": {
      "provenance": []
    },
    "kernelspec": {
      "name": "python3",
      "display_name": "Python 3"
    },
    "language_info": {
      "name": "python"
    }
  },
  "cells": [
    {
      "cell_type": "markdown",
      "source": [
        "'''\n",
        "\n",
        "                      Statistics Basics| Assignment\n",
        "\n",
        "Question 1: What is the difference between descriptive statistics and inferential statistics? Explain with examples.\n",
        "\n",
        "Ans - Descriptive statistics summarize and organize data from a sample or an entire population. They describe the basic features of a dataset and don't involve any generalization or inference. Think of it as simply presenting the facts and figures. Common methods include:\n",
        "\n",
        "•\tMeasures of Central Tendency: The mean (average), median (middle value), and mode (most frequent value) that describe the center of the data.\n",
        "\n",
        "•\tMeasures of Dispersion: The range (difference between highest and lowest values), variance, and standard deviation that describe how spread out the data is.\n",
        "\n",
        "•\tData Visualization: Using charts, graphs, and tables to present data in an easy-to-understand format.\n",
        "\n",
        "   Example - A teacher calculates the average score for a final exam in a single class of 30 students. The average score of 85 is a descriptive statistic because it describes the performance of only those 30 students. It doesn't make any claims about other classes or all students in the school.\n",
        "\n",
        "Inferential statistics use a sample of data to make predictions, test hypotheses, and draw conclusions about a larger population. Since it's often impossible to survey an entire population, inferential statistics allow us to generalize findings from a smaller group. The results are presented with a measure of uncertainty, such as a confidence interval or a p-value. Common methods include:\n",
        "\n",
        "•\tHypothesis Testing: Using statistical tests (like t-tests, ANOVA, or Chi-square) to determine if a finding is significant or likely due to chance.\n",
        "\n",
        "•\tConfidence Intervals: A range of values used to estimate the true value of a population parameter.\n",
        "\n",
        "•\tRegression Analysis: A set of statistical processes for estimating the relationships between variables to make predictions.\n",
        "\n",
        "Question 2: What is sampling in statistics? Explain the differences between random and stratified sampling.\n",
        "\n",
        "Ans - In statistics, sampling is the process of selecting a subset of individuals or data points from a larger population to estimate the characteristics of the entire population. This method is crucial because it's often impractical, too expensive, or impossible to collect data from every single member of a population. A well-chosen sample should be representative of the population, allowing researchers to draw valid conclusions and make inferences about the larger group with a high degree of confidence.\n",
        "\n",
        "Both simple random sampling and stratified sampling are types of probability sampling, which means every member of the population has a known, non-zero chance of being selected. However, they differ in how the sample is chosen.\n",
        "\n",
        "Simple Random Sampling\n",
        "\n",
        "Simple random sampling is the most basic form of probability sampling. In this method, every individual in the population has an equal chance of being selected for the sample. Think of it like drawing names from a hat—the selection is completely random and unbiased. This method is most effective when the population is relatively homogeneous (uniform) and there's a complete list of all members.\n",
        "\n",
        "•\tPros: It's straightforward to implement and minimizes the risk of researcher bias.\n",
        "\n",
        "•\tCons: It can be inefficient if the population is large and diverse, as it may not adequately represent important subgroups.\n",
        "\n",
        "Stratified Sampling\n",
        "\n",
        "Stratified sampling is a more complex method used when the population is heterogeneous (diverse) and can be divided into distinct, non-overlapping subgroups called strata. The strata are based on shared characteristics like age, gender, or income level.\n",
        "\n",
        "After dividing the population, a simple random sample is then taken from each stratum in proportion to its size in the population. This ensures that all key subgroups are properly represented in the final sample.\n",
        "\n",
        "•\tPros: It provides a more accurate and representative sample of a diverse population and allows for comparisons between different subgroups.\n",
        "\n",
        "•\tCons: It's more complex and time-consuming, requiring prior knowledge of the population's characteristics to form the strata.\n",
        "\n",
        "In essence, the key difference is that simple random sampling treats the population as one big group, while stratified sampling first divides the population into smaller, more uniform groups and then samples from each of those groups.\n",
        "\n",
        "Question 3: Define mean, median, and mode. Explain why these measures of central tendency are important.\n",
        "\n",
        "Ans – The mean is the arithmetic average of a data set. To calculate the mean, you add all the values in the data set and then divide by the number of values. It is the most common measure of central tendency. The mean is useful for data that is normally or symmetrically distributed. However, it can be heavily affected by outliers (extreme values), which can pull the average in one direction.\n",
        "\n",
        "The median is the middle value in a data set that has been arranged in order from smallest to largest. If the data set has an odd number of values, the median is the single middle number. If it has an even number, the median is the average of the two middle numbers. The median is a good measure to use when a data set contains outliers or is skewed, as it is not affected by extreme values.\n",
        "\n",
        "The mode is the value that appears most frequently in a data set. A data set can have no mode, one mode, or multiple modes. The mode is most useful for describing categorical data (data that can be sorted into groups or categories), like the most popular shoe size or the most common hair colour.\n",
        "\n",
        "Measures of central tendency are important because they provide a concise summary of a data set. Instead of looking at a long list of numbers, you can use the mean, median, or mode to get a quick idea of what a \"typical\" value looks like. They simplify complex information, making it easier to understand and compare different data sets. For example, a real estate agent might use the median home price in a neighbourhood to avoid the skewing effect of a few expensive luxury homes, giving a better picture of the typical home value.\n",
        "\n",
        "Question 4: Explain skewness and kurtosis. What does a positive skew imply about the data?\n",
        "\n",
        "Ans - Skewness and kurtosis are statistical measures that describe the shape of a data distribution.\n",
        "\n",
        "Skewness measures the asymmetry of a distribution. A perfectly symmetrical distribution, like a normal distribution (bell curve), has a skewness of zero. When the distribution is not symmetrical, it is considered skewed. The direction of the skewness is determined by the \"tail\" of the distribution.\n",
        "\n",
        "•\tNegative Skew (Left-Skewed): The tail on the left side of the distribution is longer, and the bulk of the data is concentrated on the right.\n",
        "\n",
        "•\tPositive Skew (Right-Skewed): The tail on the right side of the distribution is longer, and the bulk of the data is concentrated on the left.\n",
        "Kurtosis measures the \"tailedness\" or the presence of outliers in a distribution relative to a normal distribution. It describes how much of the data is in the tails versus the center.\n",
        "\n",
        "•\tMesokurtic: A distribution with kurtosis similar to a normal distribution. It has a moderate peak and moderate tails. The kurtosis value is typically close to 3 (or 0, depending on the formula used).\n",
        "\n",
        "•\tLeptokurtic: A distribution with a higher peak and \"heavier\" or fatter tails. This indicates a higher probability of extreme values or outliers. The kurtosis value is greater than 3.\n",
        "\n",
        "•\tPlatykurtic: A distribution with a flatter peak and \"lighter\" or thinner tails. This indicates a lower probability of extreme values and a wider spread of data in the middle. The kurtosis value is less than 3.\n",
        "\n",
        "A positive skew implies that the majority of the data points are clustered on the left side of the distribution, with a few exceptionally large values (outliers) pulling the distribution's tail to the right.\n",
        "This also creates a specific relationship between the measures of central tendency:\n",
        "\n",
        "Mean > Median > Mode\n",
        "\n",
        "The mode represents the most frequent value, which is at the peak on the left. The median is the middle value and is less affected by the extreme values. The mean, however, is pulled toward the long tail by the large outlier values, making it the highest of the three. A classic example of a positively skewed distribution is household income, where most people fall into the lower-to-middle income bracket, but a small number of extremely wealthy individuals create a long tail to the right.\n",
        "\n",
        "Question 5: Implement a Python program to compute the mean, median, and mode of\n",
        "a given list of numbers.\n",
        "\n",
        "numbers = [12, 15, 12, 18, 19, 12, 20, 22, 19, 19, 24, 24, 24, 26, 28]\n"
      ],
      "metadata": {
        "id": "-RvHqU96H4b9"
      }
    },
    {
      "cell_type": "code",
      "source": [
        "import statistics\n",
        "from collections import Counter\n",
        "\n",
        "def calculate_stats(numbers):\n",
        "    \"\"\"\n",
        "    Calculates the mean, median, and mode of a list of numbers.\n",
        "    \"\"\"\n",
        "    # Calculate the mean (average)\n",
        "    mean = statistics.mean(numbers)\n",
        "\n",
        "    # Calculate the median (middle value)\n",
        "    median = statistics.median(numbers)\n",
        "\n",
        "    # Calculate the mode (most frequent value)\n",
        "    try:\n",
        "        mode = statistics.mode(numbers)\n",
        "    except statistics.StatisticsError:\n",
        "        # If there's no unique mode (e.g., all numbers appear once),\n",
        "        # we can find all modes\n",
        "        counts = Counter(numbers)\n",
        "        max_count = max(counts.values())\n",
        "        modes = [key for key, value in counts.items() if value == max_count]\n",
        "        mode = modes\n",
        "\n",
        "    return mean, median, mode\n",
        "\n",
        "# Given list of numbers\n",
        "numbers = [12, 15, 12, 18, 19, 12, 20, 22, 19, 19, 24, 24, 24, 26, 28]\n",
        "\n",
        "# Calculate and print the results\n",
        "mean_val, median_val, mode_val = calculate_stats(numbers)\n",
        "\n",
        "print(f\"The list of numbers is: {numbers}\")\n",
        "print(\"-\" * 50)\n",
        "print(f\"Mean: {mean_val}\")\n",
        "print(f\"Median: {median_val}\")\n",
        "print(f\"Mode: {mode_val}\")"
      ],
      "metadata": {
        "colab": {
          "base_uri": "https://localhost:8080/"
        },
        "id": "1uvFNKZIJECn",
        "outputId": "a3007528-27ec-47ea-c491-1199db70f239"
      },
      "execution_count": 1,
      "outputs": [
        {
          "output_type": "stream",
          "name": "stdout",
          "text": [
            "The list of numbers is: [12, 15, 12, 18, 19, 12, 20, 22, 19, 19, 24, 24, 24, 26, 28]\n",
            "--------------------------------------------------\n",
            "Mean: 19.6\n",
            "Median: 19\n",
            "Mode: 12\n"
          ]
        }
      ]
    },
    {
      "cell_type": "markdown",
      "source": [
        "Question 6: Compute the covariance and correlation coefficient between the following\n",
        "two datasets provided as lists in Python:\n",
        "\n",
        "list_x = [10, 20, 30, 40, 50]\n",
        "\n",
        "list_y = [15, 25, 35, 45, 60]"
      ],
      "metadata": {
        "id": "GgQvZIBnJZ29"
      }
    },
    {
      "cell_type": "code",
      "source": [
        "import numpy as np\n",
        "\n",
        "# Given lists\n",
        "list_x = [10, 20, 30, 40, 50]\n",
        "list_y = [15, 25, 35, 45, 60]\n",
        "\n",
        "# Convert lists to NumPy arrays\n",
        "x = np.array(list_x)\n",
        "y = np.array(list_y)\n",
        "\n",
        "# Calculate the covariance\n",
        "covariance_matrix = np.cov(x, y)\n",
        "covariance = covariance_matrix[0, 1]\n",
        "\n",
        "# Calculate the correlation coefficient\n",
        "correlation_matrix = np.corrcoef(x, y)\n",
        "correlation_coefficient = correlation_matrix[0, 1]\n",
        "\n",
        "print(f\"List X: {list_x}\")\n",
        "print(f\"List Y: {list_y}\")\n",
        "print(\"-\" * 50)\n",
        "print(f\"Covariance between X and Y: {covariance}\")\n",
        "print(f\"Correlation coefficient between X and Y: {correlation_coefficient}\")"
      ],
      "metadata": {
        "colab": {
          "base_uri": "https://localhost:8080/"
        },
        "id": "HkrlD_XSJkLq",
        "outputId": "c5d653bc-52a2-4aa7-8fb5-8d7c01c4c2bb"
      },
      "execution_count": 2,
      "outputs": [
        {
          "output_type": "stream",
          "name": "stdout",
          "text": [
            "List X: [10, 20, 30, 40, 50]\n",
            "List Y: [15, 25, 35, 45, 60]\n",
            "--------------------------------------------------\n",
            "Covariance between X and Y: 275.0\n",
            "Correlation coefficient between X and Y: 0.995893206467704\n"
          ]
        }
      ]
    },
    {
      "cell_type": "markdown",
      "source": [
        "Question 7: Write a Python script to draw a boxplot for the following numeric list and\n",
        "identify its outliers. Explain the result:\n",
        "\n",
        "data = [12, 14, 14, 15, 18, 19, 19, 21, 22, 22, 23, 23, 24, 26, 29, 35]"
      ],
      "metadata": {
        "id": "vb4P5t4UJniF"
      }
    },
    {
      "cell_type": "code",
      "source": [
        "import numpy as np\n",
        "\n",
        "# Given lists\n",
        "list_x = [10, 20, 30, 40, 50]\n",
        "list_y = [15, 25, 35, 45, 60]\n",
        "\n",
        "# Convert lists to NumPy arrays\n",
        "x = np.array(list_x)\n",
        "y = np.array(list_y)\n",
        "\n",
        "# Calculate the covariance\n",
        "covariance_matrix = np.cov(x, y)\n",
        "covariance = covariance_matrix[0, 1]\n",
        "\n",
        "# Calculate the correlation coefficient\n",
        "correlation_matrix = np.corrcoef(x, y)\n",
        "correlation_coefficient = correlation_matrix[0, 1]\n",
        "\n",
        "print(f\"List X: {list_x}\")\n",
        "print(f\"List Y: {list_y}\")\n",
        "print(\"-\" * 50)\n",
        "print(f\"Covariance between X and Y: {covariance}\")\n",
        "print(f\"Correlation coefficient between X and Y: {correlation_coefficient}\")"
      ],
      "metadata": {
        "colab": {
          "base_uri": "https://localhost:8080/"
        },
        "id": "S_p8movUJt-j",
        "outputId": "e6cd0891-efcf-4980-92c8-821848d91ac7"
      },
      "execution_count": 3,
      "outputs": [
        {
          "output_type": "stream",
          "name": "stdout",
          "text": [
            "List X: [10, 20, 30, 40, 50]\n",
            "List Y: [15, 25, 35, 45, 60]\n",
            "--------------------------------------------------\n",
            "Covariance between X and Y: 275.0\n",
            "Correlation coefficient between X and Y: 0.995893206467704\n"
          ]
        }
      ]
    },
    {
      "cell_type": "markdown",
      "source": [
        "8) Question 8: You are working as a data analyst in an e-commerce company. The marketing team wants to know if there is a relationship between advertising spend and daily sales.\n",
        "\n",
        "● Explain how you would use covariance and correlation to explore this\n",
        "relationship.\n",
        "\n",
        "● Write Python code to compute the correlation between the two lists:\n",
        "advertising_spend = [200, 250, 300, 400, 500]\n",
        "daily_sales = [2200, 2450, 2750, 3200, 4000]\n",
        "\n",
        "Ans - As a data analyst, you can use covariance and correlation to understand the relationship between advertising spend and daily sales. These statistical measures help the marketing team determine if their advertising efforts are having a positive impact on sales.\n",
        "\n",
        "Using Covariance to Explore the Relationship\n",
        "Covariance measures the direction of the linear relationship between two variables. In this case, it would tell us if advertising spend and daily sales move in the same direction.\n",
        "\n",
        "Positive Covariance: A positive value suggests that as advertising spend increases, daily sales also tend to increase. This is the desired outcome for the marketing team.\n",
        "\n",
        "Negative Covariance: A negative value suggests an inverse relationship; as advertising spend increases, daily sales tend to decrease.\n",
        "\n",
        "Zero Covariance: A value close to zero suggests there is no linear relationship between the two variables.\n",
        "\n",
        "The main limitation of covariance is that its value is not standardized, making it difficult to compare the strength of relationships across different datasets.\n",
        "\n",
        "Using Correlation to Explore the Relationship\n",
        "Correlation, specifically the Pearson correlation coefficient, is a more useful and standardized measure. It not only tells you the direction of the relationship but also the strength of that relationship.\n",
        "\n",
        "The correlation coefficient (r) always ranges between -1 and 1:\n",
        "\n",
        "r=1: A perfect positive linear relationship.\n",
        "\n",
        "0<r<1: A positive relationship. The closer the value is to 1, the stronger the relationship.\n",
        "\n",
        "r=0: No linear relationship.\n",
        "\n",
        "−1<r<0: A negative relationship. The closer the value is to -1, the stronger the relationship.\n",
        "\n",
        "r=−1: A perfect negative linear relationship.\n",
        "\n",
        "For your analysis, a high positive correlation coefficient (e.g., above 0.8) would be strong evidence that increased advertising spend is directly linked to higher daily sales. This insight is much more actionable for the marketing team than just the direction provided by covariance."
      ],
      "metadata": {
        "id": "oFgyRS0MJ5AN"
      }
    },
    {
      "cell_type": "code",
      "source": [
        "import numpy as np\n",
        "\n",
        "# Data provided by the marketing team\n",
        "advertising_spend = [200, 250, 300, 400, 500]\n",
        "daily_sales = [2200, 2450, 2750, 3200, 4000]\n",
        "\n",
        "# Convert lists to NumPy arrays for easy calculation\n",
        "spend_array = np.array(advertising_spend)\n",
        "sales_array = np.array(daily_sales)\n",
        "\n",
        "# Compute the correlation matrix using numpy's corrcoef function\n",
        "# The matrix will be a 2x2 matrix where the main diagonal is 1\n",
        "# and the off-diagonal elements are the correlation coefficient\n",
        "correlation_matrix = np.corrcoef(spend_array, sales_array)\n",
        "\n",
        "# The correlation coefficient between the two lists is at index [0, 1] or [1, 0]\n",
        "correlation_coefficient = correlation_matrix[0, 1]\n",
        "\n",
        "# Print the results with a descriptive message\n",
        "print(f\"Advertising Spend: {advertising_spend}\")\n",
        "print(f\"Daily Sales: {daily_sales}\")\n",
        "print(\"\\n--- Results ---\")\n",
        "print(f\"The correlation coefficient between advertising spend and daily sales is: {correlation_coefficient:.4f}\")\n",
        "\n",
        "# Interpret the result\n",
        "if correlation_coefficient > 0.8:\n",
        "    print(\"\\nInterpretation: There is a very strong positive linear relationship between advertising spend and daily sales.\")\n",
        "elif correlation_coefficient > 0.5:\n",
        "    print(\"\\nInterpretation: There is a moderately strong positive linear relationship.\")\n",
        "else:\n",
        "    print(\"\\nInterpretation: The relationship is weak or non-existent.\")\n"
      ],
      "metadata": {
        "colab": {
          "base_uri": "https://localhost:8080/"
        },
        "id": "ZHUsUIBgKmZU",
        "outputId": "9c3d472f-5d61-4546-e806-4cbee5a18f3c"
      },
      "execution_count": 4,
      "outputs": [
        {
          "output_type": "stream",
          "name": "stdout",
          "text": [
            "Advertising Spend: [200, 250, 300, 400, 500]\n",
            "Daily Sales: [2200, 2450, 2750, 3200, 4000]\n",
            "\n",
            "--- Results ---\n",
            "The correlation coefficient between advertising spend and daily sales is: 0.9936\n",
            "\n",
            "Interpretation: There is a very strong positive linear relationship between advertising spend and daily sales.\n"
          ]
        }
      ]
    },
    {
      "cell_type": "markdown",
      "source": [
        "Question 9: Your team has collected customer satisfaction survey data on a scale of 1-10 and wants to understand its distribution before launching a new product.\n",
        "\n",
        "● Explain which summary statistics and visualizations (e.g. mean, standard\n",
        "deviation, histogram) you’d use.\n",
        "\n",
        "● Write Python code to create a histogram using Matplotlib for the survey data:\n",
        "\n",
        "survey_scores = [7, 8, 5, 9, 6, 7, 8, 9, 10, 4, 7, 6, 9, 8, 7]\n",
        "\n",
        "Ans - When analyzing customer satisfaction survey data on a 1-10 scale, the goal is to understand the central tendency, variability, and overall distribution of the scores. This helps your team quickly grasp how satisfied customers are and identify any key patterns before the new product launch.\n",
        "\n",
        "To get a quick numerical summary of the data, you should use the following statistics:\n",
        "\n",
        "Mean: This provides the average satisfaction score. It's a simple and intuitive metric, but it can be sensitive to outliers (e.g., a few very low scores could pull the average down).\n",
        "\n",
        "Median: This is the middle value of the dataset. It's often a better indicator of the \"typical\" score because it is not affected by extremely high or low values.\n",
        "\n",
        "Standard Deviation: This measures the amount of variation or dispersion in the set of scores. A low standard deviation means the scores are clustered closely around the mean, indicating a general consensus in satisfaction. A high standard deviation means the scores are spread out, suggesting a wide range of opinions and a lack of consensus.\n",
        "\n",
        "Visualizations\n",
        "\n",
        "The most effective visualization for understanding the distribution of this data is a histogram.\n",
        "\n",
        "Histogram: A histogram groups the scores into \"bins\" and shows you the frequency of scores within each bin. This allows you to visually identify:\n",
        "\n",
        "The most common score(s), represented by the tallest bars.\n",
        "\n",
        "The overall shape of the distribution. Is it skewed towards the higher scores (positive feedback)? Is it symmetrical? Are there multiple peaks, suggesting different groups of customers?\n",
        "\n",
        "Any outliers or unusual patterns that might not be obvious from the summary statistics alone."
      ],
      "metadata": {
        "id": "3SejjfeEKrHa"
      }
    },
    {
      "cell_type": "code",
      "source": [
        "import numpy as np\n",
        "import matplotlib.pyplot as plt\n",
        "\n",
        "def analyze_survey_data(scores):\n",
        "    \"\"\"\n",
        "    Calculates summary statistics and creates a histogram for a list of scores.\n",
        "    \"\"\"\n",
        "    # Convert the list to a NumPy array for easy calculation\n",
        "    scores_array = np.array(scores)\n",
        "\n",
        "    # 1. Calculate Summary Statistics\n",
        "    mean_score = np.mean(scores_array)\n",
        "    median_score = np.median(scores_array)\n",
        "    std_dev = np.std(scores_array)\n",
        "\n",
        "    print(\"--- Summary Statistics ---\")\n",
        "    print(f\"Mean Score: {mean_score:.2f}\")\n",
        "    print(f\"Median Score: {median_score:.2f}\")\n",
        "    print(f\"Standard Deviation: {std_dev:.2f}\")\n",
        "    print(\"\\n\" + \"=\"*30 + \"\\n\")\n",
        "\n",
        "    # 2. Create the Histogram\n",
        "    plt.style.use('seaborn-v0_8-whitegrid') # A clean and modern plot style\n",
        "\n",
        "    # Set the range and number of bins for the histogram\n",
        "    # Bins are set to cover all scores from 1 to 10, with one bin per integer score\n",
        "    bins = np.arange(1, 12) - 0.5\n",
        "\n",
        "    plt.hist(scores_array, bins=bins, edgecolor='black', alpha=0.7, rwidth=0.8)\n",
        "\n",
        "    # Add labels and a title to make the plot clear\n",
        "    plt.title('Distribution of Customer Satisfaction Survey Scores', fontsize=16)\n",
        "    plt.xlabel('Survey Score (1-10)', fontsize=12)\n",
        "    plt.ylabel('Frequency', fontsize=12)\n",
        "    plt.xticks(range(1, 11))\n",
        "\n",
        "    # Add a visual line for the mean for quick reference\n",
        "    plt.axvline(mean_score, color='red', linestyle='dashed', linewidth=2, label=f'Mean: {mean_score:.2f}')\n",
        "    plt.legend()\n",
        "\n",
        "    # Display the plot\n",
        "    plt.tight_layout() # Adjust layout to prevent labels from being cut off\n",
        "    plt.show()\n",
        "\n",
        "# The provided customer survey data\n",
        "survey_scores = [7, 8, 5, 9, 6, 7, 8, 9, 10, 4, 7, 6, 9, 8, 7]\n",
        "\n",
        "# Run the analysis\n",
        "analyze_survey_data(survey_scores)\n"
      ],
      "metadata": {
        "colab": {
          "base_uri": "https://localhost:8080/",
          "height": 607
        },
        "id": "zdua9ztyLUdg",
        "outputId": "8c3a88e0-6ef2-4c5c-9b86-d299d80f6aa4"
      },
      "execution_count": 5,
      "outputs": [
        {
          "output_type": "stream",
          "name": "stdout",
          "text": [
            "--- Summary Statistics ---\n",
            "Mean Score: 7.33\n",
            "Median Score: 7.00\n",
            "Standard Deviation: 1.58\n",
            "\n",
            "==============================\n",
            "\n"
          ]
        },
        {
          "output_type": "display_data",
          "data": {
            "text/plain": [
              "<Figure size 640x480 with 1 Axes>"
            ],
            "image/png": "[encoded data removed]"
          },
          "metadata": {}
        }
      ]
    }
  ]
}